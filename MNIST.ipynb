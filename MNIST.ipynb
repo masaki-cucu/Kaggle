{
  "nbformat": 4,
  "nbformat_minor": 0,
  "metadata": {
    "colab": {
      "name": "MNIST.ipynb",
      "provenance": [],
      "collapsed_sections": [],
      "include_colab_link": true
    },
    "kernelspec": {
      "name": "python3",
      "display_name": "Python 3"
    }
  },
  "cells": [
    {
      "cell_type": "markdown",
      "metadata": {
        "id": "view-in-github",
        "colab_type": "text"
      },
      "source": [
        "<a href=\"https://colab.research.google.com/github/masaki-cucu/Kaggle/blob/master/MNIST.ipynb\" target=\"_parent\"><img src=\"https://colab.research.google.com/assets/colab-badge.svg\" alt=\"Open In Colab\"/></a>"
      ]
    },
    {
      "cell_type": "code",
      "metadata": {
        "id": "9lPMLhoUat8E",
        "colab_type": "code",
        "outputId": "84ed85fe-7b20-4d16-ac14-681112d874e8",
        "colab": {
          "base_uri": "https://localhost:8080/",
          "height": 35
        }
      },
      "source": [
        "# TensorFlowとそのデータセットライブラリのインポート\n",
        "from __future__ import absolute_import, division, print_function, unicode_literals\n",
        "try:\n",
        "  # %tensorflow_version only exists in Colab.\n",
        "  %tensorflow_version 2.x\n",
        "except Exception:\n",
        "  pass\n",
        "import tensorflow as tf\n",
        "import tensorflow_datasets as tfds"
      ],
      "execution_count": 0,
      "outputs": [
        {
          "output_type": "stream",
          "text": [
            "TensorFlow 2.x selected.\n"
          ],
          "name": "stdout"
        }
      ]
    },
    {
      "cell_type": "code",
      "metadata": {
        "id": "q75oodDEjTXA",
        "colab_type": "code",
        "colab": {}
      },
      "source": [
        "# データセットの指定と分割\n",
        "dataset = tfds.load('mnist', as_supervised=True)\n",
        "mnist_train, mnist_test = dataset['train'], dataset['test']"
      ],
      "execution_count": 0,
      "outputs": []
    },
    {
      "cell_type": "code",
      "metadata": {
        "id": "3T8I1n8njrgp",
        "colab_type": "code",
        "colab": {}
      },
      "source": [
        "# マップ関数（配列に対して中身を一気に変換するための関数）を定義\n",
        "# ここではimageを実数に変換した後最大値1.0になるように除算している\n",
        "# NNへの入力は0.0～1.0にスケーリングされているのが望ましいため\n",
        "def convert_types(image, label):\n",
        "    image = tf.cast(image, tf.float32)\n",
        "    image /= 255\n",
        "    return image, label\n",
        "\n",
        "# 各データに上記マップ関数を適用。訓練データはランダムに混ぜている\n",
        "# shuffleに引数を与えることで実行ごとに同じ混ざり方をするようにしている（再現性のため）\n",
        "mnist_train = mnist_train.map(convert_types).shuffle(10000).batch(32)\n",
        "mnist_test = mnist_test.map(convert_types).batch(32)"
      ],
      "execution_count": 0,
      "outputs": []
    },
    {
      "cell_type": "code",
      "metadata": {
        "id": "LetTsgAajx4F",
        "colab_type": "code",
        "colab": {}
      },
      "source": [
        "# Kerasを使用する\n",
        "# Dense：通常の全結合NN\n",
        "# Flatten:入力を平坦化するためのもの\n",
        "# Model:学習モデルの定義\n",
        "from tensorflow.keras.layers import Dense, Flatten\n",
        "from tensorflow.keras import Model\n",
        "\n",
        "# Modelを継承して今回使用する学習モデルを定義する\n",
        "class MyModel(Model):\n",
        "    def __init__(self):\n",
        "        super(MyModel, self).__init__()\n",
        "        # 入力層をFlattenで宣言することで入力を一列にする\n",
        "        self.flatten = Flatten() # (28, 28, 1) -> 784\n",
        "        # 全結合層 ユニット数128（数は雰囲気で決めていい）\n",
        "        self.d1 = Dense(128, activation = 'relu') # 784 -> 128\n",
        "        # 全結合層 ユニット数10（0～9を一個ずつ）\n",
        "        self.d2 = Dense(10, activation = 'softmax') # 128 -> 10\n",
        "\n",
        "    # initで宣言した各層をcall関数でつなげる\n",
        "    def call(self, x):\n",
        "        x = self.flatten(x)\n",
        "        x = self.d1(x)\n",
        "        return self.d2(x)\n",
        "\n",
        "# MyModel型のmodel変数を宣言\n",
        "model = MyModel()"
      ],
      "execution_count": 0,
      "outputs": []
    },
    {
      "cell_type": "code",
      "metadata": {
        "id": "BJBnkREBj1eg",
        "colab_type": "code",
        "colab": {}
      },
      "source": [
        "# 損失関数の定義\n",
        "# SparseCategoricalCrossentropyはOne-hot型になってない教師データでもいい感じに解釈してくれるやつ\n",
        "loss_object = tf.keras.losses.SparseCategoricalCrossentropy()\n",
        "\n",
        "# 学習のための勾配法はAdamという方法を選択\n",
        "# どの勾配法が良いかは人の好みも大きいと思うけど最近はAdamが人気っぽい\n",
        "# ほかのライブラリにもAdamはある\n",
        "optimizer = tf.keras.optimizers.Adam()"
      ],
      "execution_count": 0,
      "outputs": []
    },
    {
      "cell_type": "code",
      "metadata": {
        "id": "aA67Rv_2j4py",
        "colab_type": "code",
        "colab": {}
      },
      "source": [
        "# ログ出力用の損失Lossと正確性Accuracy\n",
        "train_loss = tf.keras.metrics.Mean(name = 'train_loss')\n",
        "train_accuracy = tf.keras.metrics.SparseCategoricalAccuracy(name = 'train_accuracy')\n",
        "\n",
        "test_loss = tf.keras.metrics.Mean(name = 'test_loss')\n",
        "test_accuracy = tf.keras.metrics.SparseCategoricalAccuracy(name = 'test_accuracy')"
      ],
      "execution_count": 0,
      "outputs": []
    },
    {
      "cell_type": "code",
      "metadata": {
        "id": "hkLo2CGDj87o",
        "colab_type": "code",
        "colab": {}
      },
      "source": [
        "# 訓練とテスト用それぞれで学習または予測の1ステップの関数を定義\n",
        "# @tf.functionを頭につけると処理が早くなる\n",
        "\n",
        "@tf.function\n",
        "def train_step(image, label):\n",
        "    # tensorflowのGradientTape（勾配を求めるためのクラス）を実行出来たらそれをtapeとして以下の処理\n",
        "    with tf.GradientTape() as tape:\n",
        "        # modelにimageを入力することで結果を予想\n",
        "        predictions = model(image)\n",
        "        # 予想と教師との差（損失・誤差）を求める\n",
        "        loss = loss_object(label, predictions)\n",
        "    # 損失とモデル内の学習可能な変数リストから学習すべき勾配を求める\n",
        "    gradients = tape.gradient(loss, model.trainable_variables)\n",
        "    # 勾配と学習可能変数をoptimizerに代入することで学習\n",
        "    optimizer.apply_gradients(zip(gradients, model.trainable_variables))\n",
        "\n",
        "    train_loss(loss)\n",
        "    train_accuracy(label, predictions)\n",
        "\n",
        "# 予測して損失（誤差）を求めるだけ\n",
        "@tf.function\n",
        "def test_step(image, label):\n",
        "    predictions = model(image)\n",
        "    t_loss = loss_object(label, predictions)\n",
        "\n",
        "    test_loss(t_loss)\n",
        "    test_accuracy(label, predictions)"
      ],
      "execution_count": 0,
      "outputs": []
    },
    {
      "cell_type": "code",
      "metadata": {
        "id": "f71sB5PZkBZq",
        "colab_type": "code",
        "outputId": "bbf8cbb8-a602-45e1-e842-d6004bb5f0f7",
        "colab": {
          "base_uri": "https://localhost:8080/",
          "height": 107
        }
      },
      "source": [
        "# 学習の実行\n",
        "# 5エポック（5周）で大体80秒くらい？\n",
        "EPOCHS = 5\n",
        "\n",
        "for epoch in range(EPOCHS):\n",
        "    for image, label in mnist_train:\n",
        "        train_step(image, label)\n",
        "\n",
        "    for test_image, test_label in mnist_test:\n",
        "        test_step(test_image, test_label)\n",
        "\n",
        "    template = 'Epoch {}, Loss: {}, Accuracy: {}, Test Loss: {}, Test Accuracy: {}'\n",
        "    print(template.format(epoch + 1, train_loss.result(), train_accuracy.result() * 100, test_loss.result(), test_accuracy.result() * 100))"
      ],
      "execution_count": 0,
      "outputs": [
        {
          "output_type": "stream",
          "text": [
            "Epoch 1, Loss: 0.25917848944664, Accuracy: 92.63333129882812, Test Loss: 0.14332175254821777, Test Accuracy: 95.67000579833984\n",
            "Epoch 2, Loss: 0.18677496910095215, Accuracy: 94.63249969482422, Test Loss: 0.12067759782075882, Test Accuracy: 96.29000091552734\n",
            "Epoch 3, Loss: 0.1499626785516739, Accuracy: 95.66388702392578, Test Loss: 0.10951710492372513, Test Accuracy: 96.6433334350586\n",
            "Epoch 4, Loss: 0.12681038677692413, Accuracy: 96.30583190917969, Test Loss: 0.1043759286403656, Test Accuracy: 96.80999755859375\n",
            "Epoch 5, Loss: 0.11004895716905594, Accuracy: 96.77967071533203, Test Loss: 0.09885060787200928, Test Accuracy: 96.98600006103516\n"
          ],
          "name": "stdout"
        }
      ]
    }
  ]
}