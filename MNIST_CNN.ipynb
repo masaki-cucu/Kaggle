{
  "nbformat": 4,
  "nbformat_minor": 0,
  "metadata": {
    "colab": {
      "name": "MNIST_CNN.ipynb",
      "provenance": [],
      "collapsed_sections": [],
      "include_colab_link": true
    },
    "kernelspec": {
      "name": "python3",
      "display_name": "Python 3"
    }
  },
  "cells": [
    {
      "cell_type": "markdown",
      "metadata": {
        "id": "view-in-github",
        "colab_type": "text"
      },
      "source": [
        "<a href=\"https://colab.research.google.com/github/masaki-cucu/Kaggle/blob/master/MNIST_CNN.ipynb\" target=\"_parent\"><img src=\"https://colab.research.google.com/assets/colab-badge.svg\" alt=\"Open In Colab\"/></a>"
      ]
    },
    {
      "cell_type": "code",
      "metadata": {
        "id": "jsE7uAsEam_B",
        "colab_type": "code",
        "colab": {}
      },
      "source": [
        "import chainer\n",
        "import chainer.functions as F\n",
        "import chainer.links as L\n",
        "from chainer import training, datasets, iterators, optimizers\n",
        "from chainer.training import extensions\n",
        "import numpy as np\n",
        "from PIL import Image\n",
        "\n",
        "batch_size = 10                # バッチサイズ10\n",
        "uses_device = 0                # GPU#0を使用"
      ],
      "execution_count": 0,
      "outputs": []
    },
    {
      "cell_type": "code",
      "metadata": {
        "id": "jD8pcDVQa8v9",
        "colab_type": "code",
        "colab": {}
      },
      "source": [
        "class NMIST_Conv_NN(chainer.Chain):\n",
        "\n",
        "\tdef __init__(self):\n",
        "\t\tsuper(NMIST_Conv_NN, self).__init__()\n",
        "\t\twith self.init_scope():\n",
        "\t\t\tself.conv1 = L.Convolution2D(1, 8, ksize=3)\t# フィルタサイズ＝3で出力数8\n",
        "\t\t\tself.linear1 = L.Linear(1352, 10)\t\t\t# 出力数10\n",
        "\n",
        "\tdef __call__(self, x, t=None, train=True):\n",
        "\t\t# 畳み込みニューラルネットワークによる画像認識\n",
        "\t\th1 = self.conv1(x)\t\t\t\t# 畳み込み層\n",
        "\t\th2 = F.relu(h1)\t\t\t\t\t# 活性化関数\n",
        "\t\th3 = F.max_pooling_2d(h2, 2)# プーリング層\n",
        "\t\th4 = self.linear1(h3)\t\t\t# 全結合層\n",
        "\t\t# 損失か結果を返す\n",
        "\t\treturn F.softmax_cross_entropy(h4, t) if train else F.softmax(h4)"
      ],
      "execution_count": 0,
      "outputs": []
    },
    {
      "cell_type": "code",
      "metadata": {
        "id": "p2-xQL43cvAl",
        "colab_type": "code",
        "colab": {}
      },
      "source": [
        "# ニューラルネットワークを作成\n",
        "model = NMIST_Conv_NN()\n",
        "\n",
        "# MNISTデータセットを用意する\n",
        "train, test = chainer.datasets.get_mnist(ndim=3)\n",
        "\n",
        "# 繰り返し条件を作成する\n",
        "train_iter = iterators.SerialIterator(train, batch_size, shuffle=True)\n",
        "test_iter = iterators.SerialIterator(test, batch_size, repeat=False, shuffle=False)\n",
        "\n",
        "# 誤差逆伝播法アルゴリズムを選択する\n",
        "optimizer = optimizers.Adam()\n",
        "optimizer.setup(model)\n",
        "\n",
        "# デバイスを選択してTrainerを作成する\n",
        "updater = training.StandardUpdater(train_iter, optimizer)\n",
        "trainer = training.Trainer(updater, (5, 'epoch'), out=\"result\")\n",
        "# テストをTrainerに設定する\n",
        "trainer.extend(extensions.Evaluator(test_iter, model))\n",
        "# 学習の進展を表示するようにする\n",
        "#trainer.extend(extensions.ProgressBar())\n",
        "\n",
        "# 機械学習を実行する\n",
        "trainer.run()\n",
        "\n",
        "# 学習結果を保存する\n",
        "chainer.serializers.save_hdf5( 'chapt02.hdf5', model )"
      ],
      "execution_count": 0,
      "outputs": []
    },
    {
      "cell_type": "code",
      "metadata": {
        "id": "bLFbzWuScoGi",
        "colab_type": "code",
        "colab": {
          "base_uri": "https://localhost:8080/",
          "height": 192
        },
        "outputId": "8e3f2130-c504-4f0f-8087-ba0cd5b7bc4f"
      },
      "source": [
        "# 学習結果を読み込む\n",
        "chainer.serializers.load_hdf5( 'chapt02.hdf5', model )\n",
        "\n",
        "# 画像を読み込む\n",
        "image = Image.open('../mnist-0.png').convert('L')\n",
        "# ニューラルネットワークの入力に合わせて成形する\n",
        "pixels = np.asarray(image).astype(np.float32).reshape(1,1,28,28)\n",
        "pixels = pixels / 255\n",
        "\n",
        "# ニューラルネットワークを実行する\n",
        "result = model(pixels, train=False)\n",
        "# 実行結果を表示する\n",
        "for i in range(len(result.data[0])):\n",
        "\tprint( str(i) + '\\t' + str(result.data[0][i]) )\n"
      ],
      "execution_count": 41,
      "outputs": [
        {
          "output_type": "stream",
          "text": [
            "0\t0.9999981\n",
            "1\t3.9182434e-17\n",
            "2\t1.1789126e-06\n",
            "3\t1.9131169e-10\n",
            "4\t2.0366011e-12\n",
            "5\t2.8351962e-10\n",
            "6\t5.680893e-07\n",
            "7\t2.2295162e-11\n",
            "8\t6.9278954e-08\n",
            "9\t9.433626e-10\n"
          ],
          "name": "stdout"
        }
      ]
    }
  ]
}